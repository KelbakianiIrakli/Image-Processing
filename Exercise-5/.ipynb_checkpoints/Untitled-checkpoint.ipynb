{
 "cells": [
  {
   "cell_type": "code",
   "execution_count": 8,
   "id": "424130e7",
   "metadata": {},
   "outputs": [
    {
     "name": "stdout",
     "output_type": "stream",
     "text": [
      "\n",
      " Original Image:\n",
      "[[7 3 1 5]\n",
      " [7 9 3 1]\n",
      " [3 5 1 3]\n",
      " [7 9 9 3]]\n",
      "\n",
      " Transformed Image:\n",
      "[[19.  6.  0. -1.]\n",
      " [-1.  2.  0.  3.]\n",
      " [-5. -2. -2.  5.]\n",
      " [ 3. -2.  2.  1.]]\n",
      "\n",
      " Inverse Transformed Image:\n",
      "[[7. 3. 1. 5.]\n",
      " [7. 9. 3. 1.]\n",
      " [3. 5. 1. 3.]\n",
      " [7. 9. 9. 3.]]\n",
      "\n",
      " The inverse transform and original images are the same.\n"
     ]
    }
   ],
   "source": [
    "import numpy as np\n",
    "\n",
    "# Define the image and Hadamard matrix\n",
    "image = np.array([[7, 3, 1, 5],\n",
    "                  [7, 9, 3, 1],\n",
    "                  [3, 5, 1, 3],\n",
    "                  [7, 9, 9, 3]])\n",
    "\n",
    "Hadamard_matrix = 1/2 *np.array([[1, 1, 1, 1],\n",
    "                            [1, 1, -1, -1],\n",
    "                            [1, -1, 1, -1],\n",
    "                            [1, -1, -1, 1]])\n",
    "\n",
    "# Compute the Hadamard transform\n",
    "transformed_image = np.dot(Hadamard_matrix, np.dot(image, Hadamard_matrix.T))\n",
    "\n",
    "# Compute the inverse transform using the same matrix\n",
    "inverse_transformed_image = np.dot(Hadamard_matrix.T, np.dot(transformed_image, Hadamard_matrix))\n",
    "\n",
    "\n",
    "\n",
    "print(\"\\n Original Image:\")\n",
    "print(image)\n",
    "print(\"\\n Transformed Image:\")\n",
    "print(transformed_image)\n",
    "print(\"\\n Inverse Transformed Image:\")\n",
    "print(inverse_transformed_image)\n",
    "\n",
    "\n",
    "if np.array_equal(image, inverse_transformed_image):\n",
    "    print(\"\\n The inverse transform and original images are the same.\")\n",
    "else:\n",
    "    print(\"Error, inverse Transform did not receive same image\")"
   ]
  },
  {
   "cell_type": "code",
   "execution_count": null,
   "id": "252225b3",
   "metadata": {},
   "outputs": [],
   "source": []
  }
 ],
 "metadata": {
  "kernelspec": {
   "display_name": "Python 3 (ipykernel)",
   "language": "python",
   "name": "python3"
  },
  "language_info": {
   "codemirror_mode": {
    "name": "ipython",
    "version": 3
   },
   "file_extension": ".py",
   "mimetype": "text/x-python",
   "name": "python",
   "nbconvert_exporter": "python",
   "pygments_lexer": "ipython3",
   "version": "3.7.3"
  }
 },
 "nbformat": 4,
 "nbformat_minor": 5
}
